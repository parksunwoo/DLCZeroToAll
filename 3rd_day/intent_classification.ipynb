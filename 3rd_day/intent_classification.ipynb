{
 "cells": [
  {
   "cell_type": "markdown",
   "metadata": {},
   "source": [
    "## Intent Classification"
   ]
  },
  {
   "cell_type": "code",
   "execution_count": 1,
   "metadata": {},
   "outputs": [
    {
     "name": "stderr",
     "output_type": "stream",
     "text": [
      "/anaconda3/lib/python3.6/site-packages/h5py/__init__.py:36: FutureWarning: Conversion of the second argument of issubdtype from `float` to `np.floating` is deprecated. In future, it will be treated as `np.float64 == np.dtype(float).type`.\n",
      "  from ._conv import register_converters as _register_converters\n"
     ]
    }
   ],
   "source": [
    "import pandas as pd\n",
    "import numpy as np\n",
    "from mxnet.gluon import nn, rnn\n",
    "from mxnet import gluon, autograd\n",
    "import gluonnlp as nlp\n",
    "from mxnet import nd \n",
    "import mxnet as mx\n",
    "import time\n",
    "import itertools\n",
    "from tqdm import tqdm\n",
    "import multiprocessing as mp"
   ]
  },
  {
   "cell_type": "code",
   "execution_count": 25,
   "metadata": {},
   "outputs": [],
   "source": [
    "train_raw = pd.read_csv(\"data/trainset.txt\",names=['intent', 'entity', 'sentence'], sep='\\t')\n",
    "validation_raw = pd.read_csv(\"data/test_hidden.txt\",names=['intent', 'entity', 'sentence'], sep='\\t')\n",
    "#validation_raw = pd.read_csv(\"data/validation.txt\",names=['intent', 'entity', 'sentence'], sep='\\t')"
   ]
  },
  {
   "cell_type": "code",
   "execution_count": 26,
   "metadata": {},
   "outputs": [
    {
     "data": {
      "text/html": [
       "<div>\n",
       "<style scoped>\n",
       "    .dataframe tbody tr th:only-of-type {\n",
       "        vertical-align: middle;\n",
       "    }\n",
       "\n",
       "    .dataframe tbody tr th {\n",
       "        vertical-align: top;\n",
       "    }\n",
       "\n",
       "    .dataframe thead th {\n",
       "        text-align: right;\n",
       "    }\n",
       "</style>\n",
       "<table border=\"1\" class=\"dataframe\">\n",
       "  <thead>\n",
       "    <tr style=\"text-align: right;\">\n",
       "      <th></th>\n",
       "      <th>intent</th>\n",
       "      <th>entity</th>\n",
       "      <th>sentence</th>\n",
       "    </tr>\n",
       "  </thead>\n",
       "  <tbody>\n",
       "    <tr>\n",
       "      <th>0</th>\n",
       "      <td>area</td>\n",
       "      <td>EECCCCCCCCCCCCCCCCCCC</td>\n",
       "      <td>자강의 면적은 얼마 정도되는지 알려줄래</td>\n",
       "    </tr>\n",
       "    <tr>\n",
       "      <th>1</th>\n",
       "      <td>birth_date</td>\n",
       "      <td>CCCCCCCCCCCCEEECCCCCCCCCCCC</td>\n",
       "      <td>WIKI PEDIA로 변재일 생년월일을 알고 싶어</td>\n",
       "    </tr>\n",
       "    <tr>\n",
       "      <th>2</th>\n",
       "      <td>age</td>\n",
       "      <td>EEEEEEEEEEECCCCCCCCCCCCCCCCC</td>\n",
       "      <td>남쪽 물고기자리 알파 나이가 위키백과사전으로 얼마야</td>\n",
       "    </tr>\n",
       "    <tr>\n",
       "      <th>3</th>\n",
       "      <td>length</td>\n",
       "      <td>EEEECCCCCCCCCCCCCCCCCC</td>\n",
       "      <td>삼양터널의 총 길이 위키백과사전에서 뭐야</td>\n",
       "    </tr>\n",
       "    <tr>\n",
       "      <th>4</th>\n",
       "      <td>birth_place</td>\n",
       "      <td>EEEEEECCCCCCCCCCC</td>\n",
       "      <td>코니 윌리스의 태어난 곳은 뭐지</td>\n",
       "    </tr>\n",
       "    <tr>\n",
       "      <th>5</th>\n",
       "      <td>weight</td>\n",
       "      <td>CCCCCCCCCCCCEEEECCCCCCCCCCCCC</td>\n",
       "      <td>WIKI백과사전 검색 AA12의 무게가 얼만지 찾아봐</td>\n",
       "    </tr>\n",
       "    <tr>\n",
       "      <th>6</th>\n",
       "      <td>definition</td>\n",
       "      <td>CCCCCCCCCCCCCEEECCCCCCCC</td>\n",
       "      <td>WIKIPEDIA백과로 라이프 찾아서 말해줘</td>\n",
       "    </tr>\n",
       "    <tr>\n",
       "      <th>7</th>\n",
       "      <td>height</td>\n",
       "      <td>EEEEEEEECCCCCCCCCCCCCCCCCCC</td>\n",
       "      <td>송파 헬리오시티 구조물 높이 위키 피디아에서 뭐야</td>\n",
       "    </tr>\n",
       "    <tr>\n",
       "      <th>8</th>\n",
       "      <td>birth_date</td>\n",
       "      <td>CCCEEEEEECCCCCCCCCCCCCCC</td>\n",
       "      <td>검색 HLKVAM 언제 출생했는지를 검색해라</td>\n",
       "    </tr>\n",
       "    <tr>\n",
       "      <th>9</th>\n",
       "      <td>height</td>\n",
       "      <td>CCCCCCCCEEEEEECCCCCCCC</td>\n",
       "      <td>위키 피디아에 푸조 508 전고가 몇이야</td>\n",
       "    </tr>\n",
       "    <tr>\n",
       "      <th>10</th>\n",
       "      <td>length</td>\n",
       "      <td>CCCEEEEECCCCCCC</td>\n",
       "      <td>검색 호몬혼 섬 길이를 찾아</td>\n",
       "    </tr>\n",
       "    <tr>\n",
       "      <th>11</th>\n",
       "      <td>definition</td>\n",
       "      <td>EEEEECCCCCCCCCCCCC</td>\n",
       "      <td>영산중학교 좀 위키피디아사전 검색</td>\n",
       "    </tr>\n",
       "    <tr>\n",
       "      <th>12</th>\n",
       "      <td>age</td>\n",
       "      <td>CCCCCCEEEEEECCCCCCC</td>\n",
       "      <td>위키백과로 침보라조 산 나이 어떤지</td>\n",
       "    </tr>\n",
       "    <tr>\n",
       "      <th>13</th>\n",
       "      <td>birth_date</td>\n",
       "      <td>EEEEEEECCCCCCCC</td>\n",
       "      <td>마무드 아스라의 출생 찾아줘</td>\n",
       "    </tr>\n",
       "    <tr>\n",
       "      <th>14</th>\n",
       "      <td>birth_place</td>\n",
       "      <td>CCCCCCEEEEEEECCCCCCCCC</td>\n",
       "      <td>위키 백과 조제 카리오카의 출생지를 찾아</td>\n",
       "    </tr>\n",
       "    <tr>\n",
       "      <th>15</th>\n",
       "      <td>birth_date</td>\n",
       "      <td>CCCEEEEEECCCCCCCCC</td>\n",
       "      <td>검색 제이 개츠비 생년월일은 뭐지</td>\n",
       "    </tr>\n",
       "    <tr>\n",
       "      <th>16</th>\n",
       "      <td>length</td>\n",
       "      <td>EEEECCCCCCCCCCCCCCCCC</td>\n",
       "      <td>증약터널의 길이가 얼마쯤인지 혹시 알아</td>\n",
       "    </tr>\n",
       "    <tr>\n",
       "      <th>17</th>\n",
       "      <td>belong_to</td>\n",
       "      <td>EEEEEEEEEEEEEEEECCCCCCCCCCCCCC</td>\n",
       "      <td>리히텐슈타인의 한스 아담 2세 소속사는 어딘지 검색해봐</td>\n",
       "    </tr>\n",
       "    <tr>\n",
       "      <th>18</th>\n",
       "      <td>height</td>\n",
       "      <td>CCCCCCCCCCCCEEEEECCCCCCCCC</td>\n",
       "      <td>WIKI사전백과 검색 벨록스여우의 높이는 얼만지</td>\n",
       "    </tr>\n",
       "    <tr>\n",
       "      <th>19</th>\n",
       "      <td>age</td>\n",
       "      <td>EEEEEECCCCCCCCC</td>\n",
       "      <td>파블롭스키구의 나이를 찾아줘</td>\n",
       "    </tr>\n",
       "    <tr>\n",
       "      <th>20</th>\n",
       "      <td>width</td>\n",
       "      <td>EEEEEEECCCCCCCCCCCCCC</td>\n",
       "      <td>사카피솔라 섬의 너비는 WIKI에서 뭐</td>\n",
       "    </tr>\n",
       "    <tr>\n",
       "      <th>21</th>\n",
       "      <td>birth_place</td>\n",
       "      <td>EECCCCCCCCCCCCCCCCC</td>\n",
       "      <td>나미는 태어난 곳이 WIKI로 뭔지</td>\n",
       "    </tr>\n",
       "    <tr>\n",
       "      <th>22</th>\n",
       "      <td>weight</td>\n",
       "      <td>CCCCCEEEEECCCCCCC</td>\n",
       "      <td>위키에서 피니스테르의 무게 찾기</td>\n",
       "    </tr>\n",
       "    <tr>\n",
       "      <th>23</th>\n",
       "      <td>birth_place</td>\n",
       "      <td>CCCEEEEEEECCCCCCCCCCC</td>\n",
       "      <td>검색 카를 야스퍼스 출신지역이 어디라고</td>\n",
       "    </tr>\n",
       "    <tr>\n",
       "      <th>24</th>\n",
       "      <td>width</td>\n",
       "      <td>EEEEEEEEEEECCCCCCC</td>\n",
       "      <td>63식 병력수송장갑차의 폭 얼만지</td>\n",
       "    </tr>\n",
       "    <tr>\n",
       "      <th>25</th>\n",
       "      <td>birth_place</td>\n",
       "      <td>CCCCCEEECCCCCCCCCCCC</td>\n",
       "      <td>검색으로 강마에가 출생 장소를 찾아줘</td>\n",
       "    </tr>\n",
       "    <tr>\n",
       "      <th>26</th>\n",
       "      <td>birth_date</td>\n",
       "      <td>EEEEEECCCCCCCCCCCCCC</td>\n",
       "      <td>쿠죠 히카리의 언제 출생했는지 탐색해</td>\n",
       "    </tr>\n",
       "    <tr>\n",
       "      <th>27</th>\n",
       "      <td>length</td>\n",
       "      <td>EEECCCCCCCCCCC</td>\n",
       "      <td>사하라의 길이가 얼마쯤이지</td>\n",
       "    </tr>\n",
       "    <tr>\n",
       "      <th>28</th>\n",
       "      <td>area</td>\n",
       "      <td>EEEECCCCCCCCC</td>\n",
       "      <td>송대산성의 면적은 얼만지</td>\n",
       "    </tr>\n",
       "    <tr>\n",
       "      <th>29</th>\n",
       "      <td>area</td>\n",
       "      <td>CCCCCCCCCCEEEEEECCCCCCC</td>\n",
       "      <td>WIKI 피디아에 신자경선생묘의 넓이 뭔지</td>\n",
       "    </tr>\n",
       "  </tbody>\n",
       "</table>\n",
       "</div>"
      ],
      "text/plain": [
       "         intent                          entity  \\\n",
       "0          area           EECCCCCCCCCCCCCCCCCCC   \n",
       "1    birth_date     CCCCCCCCCCCCEEECCCCCCCCCCCC   \n",
       "2           age    EEEEEEEEEEECCCCCCCCCCCCCCCCC   \n",
       "3        length          EEEECCCCCCCCCCCCCCCCCC   \n",
       "4   birth_place               EEEEEECCCCCCCCCCC   \n",
       "5        weight   CCCCCCCCCCCCEEEECCCCCCCCCCCCC   \n",
       "6    definition        CCCCCCCCCCCCCEEECCCCCCCC   \n",
       "7        height     EEEEEEEECCCCCCCCCCCCCCCCCCC   \n",
       "8    birth_date        CCCEEEEEECCCCCCCCCCCCCCC   \n",
       "9        height          CCCCCCCCEEEEEECCCCCCCC   \n",
       "10       length                 CCCEEEEECCCCCCC   \n",
       "11   definition              EEEEECCCCCCCCCCCCC   \n",
       "12          age             CCCCCCEEEEEECCCCCCC   \n",
       "13   birth_date                 EEEEEEECCCCCCCC   \n",
       "14  birth_place          CCCCCCEEEEEEECCCCCCCCC   \n",
       "15   birth_date              CCCEEEEEECCCCCCCCC   \n",
       "16       length           EEEECCCCCCCCCCCCCCCCC   \n",
       "17    belong_to  EEEEEEEEEEEEEEEECCCCCCCCCCCCCC   \n",
       "18       height      CCCCCCCCCCCCEEEEECCCCCCCCC   \n",
       "19          age                 EEEEEECCCCCCCCC   \n",
       "20        width           EEEEEEECCCCCCCCCCCCCC   \n",
       "21  birth_place             EECCCCCCCCCCCCCCCCC   \n",
       "22       weight               CCCCCEEEEECCCCCCC   \n",
       "23  birth_place           CCCEEEEEEECCCCCCCCCCC   \n",
       "24        width              EEEEEEEEEEECCCCCCC   \n",
       "25  birth_place            CCCCCEEECCCCCCCCCCCC   \n",
       "26   birth_date            EEEEEECCCCCCCCCCCCCC   \n",
       "27       length                  EEECCCCCCCCCCC   \n",
       "28         area                   EEEECCCCCCCCC   \n",
       "29         area         CCCCCCCCCCEEEEEECCCCCCC   \n",
       "\n",
       "                          sentence  \n",
       "0            자강의 면적은 얼마 정도되는지 알려줄래  \n",
       "1      WIKI PEDIA로 변재일 생년월일을 알고 싶어  \n",
       "2     남쪽 물고기자리 알파 나이가 위키백과사전으로 얼마야  \n",
       "3           삼양터널의 총 길이 위키백과사전에서 뭐야  \n",
       "4                코니 윌리스의 태어난 곳은 뭐지  \n",
       "5    WIKI백과사전 검색 AA12의 무게가 얼만지 찾아봐  \n",
       "6         WIKIPEDIA백과로 라이프 찾아서 말해줘  \n",
       "7      송파 헬리오시티 구조물 높이 위키 피디아에서 뭐야  \n",
       "8         검색 HLKVAM 언제 출생했는지를 검색해라  \n",
       "9           위키 피디아에 푸조 508 전고가 몇이야  \n",
       "10                 검색 호몬혼 섬 길이를 찾아  \n",
       "11              영산중학교 좀 위키피디아사전 검색  \n",
       "12             위키백과로 침보라조 산 나이 어떤지  \n",
       "13                 마무드 아스라의 출생 찾아줘  \n",
       "14          위키 백과 조제 카리오카의 출생지를 찾아  \n",
       "15              검색 제이 개츠비 생년월일은 뭐지  \n",
       "16           증약터널의 길이가 얼마쯤인지 혹시 알아  \n",
       "17  리히텐슈타인의 한스 아담 2세 소속사는 어딘지 검색해봐  \n",
       "18      WIKI사전백과 검색 벨록스여우의 높이는 얼만지  \n",
       "19                 파블롭스키구의 나이를 찾아줘  \n",
       "20           사카피솔라 섬의 너비는 WIKI에서 뭐  \n",
       "21             나미는 태어난 곳이 WIKI로 뭔지  \n",
       "22               위키에서 피니스테르의 무게 찾기  \n",
       "23           검색 카를 야스퍼스 출신지역이 어디라고  \n",
       "24              63식 병력수송장갑차의 폭 얼만지  \n",
       "25            검색으로 강마에가 출생 장소를 찾아줘  \n",
       "26            쿠죠 히카리의 언제 출생했는지 탐색해  \n",
       "27                  사하라의 길이가 얼마쯤이지  \n",
       "28                   송대산성의 면적은 얼만지  \n",
       "29         WIKI 피디아에 신자경선생묘의 넓이 뭔지  "
      ]
     },
     "execution_count": 26,
     "metadata": {},
     "output_type": "execute_result"
    }
   ],
   "source": [
    "train_raw.head(30)"
   ]
  },
  {
   "cell_type": "markdown",
   "metadata": {},
   "source": [
    "### Intent Classification"
   ]
  },
  {
   "cell_type": "markdown",
   "metadata": {},
   "source": [
    "#### 데이터 전처리"
   ]
  },
  {
   "cell_type": "code",
   "execution_count": 27,
   "metadata": {},
   "outputs": [],
   "source": [
    "train_dataset = [(l, d) for d,l in zip(train_raw['intent'], train_raw['sentence'])]\n",
    "valid_dataset = [(l, d) for d,l in zip(validation_raw['intent'], validation_raw['sentence'])]"
   ]
  },
  {
   "cell_type": "code",
   "execution_count": 28,
   "metadata": {},
   "outputs": [],
   "source": [
    "seq_len = 32\n",
    "\n",
    "length_clip = nlp.data.PadSequence(seq_len, pad_val=\"<pad>\")\n",
    "\n",
    "def preprocess(data):\n",
    "    sent, entity = data\n",
    "    char_sent = list(str(sent))\n",
    "    char_entity = str(entity)\n",
    "    return(length_clip(char_sent), len(sent),char_entity)\n",
    "\n",
    "def preprocess_dataset(dataset):\n",
    "    start = time.time()\n",
    "    with mp.Pool() as pool:\n",
    "        dataset = gluon.data.SimpleDataset(pool.map(preprocess, dataset))\n",
    "    end = time.time()\n",
    "    print('Done! Tokenizing Time={:.2f}s, #Sentences={}'\n",
    "          .format(end - start, len(dataset)))\n",
    "    return dataset\n"
   ]
  },
  {
   "cell_type": "code",
   "execution_count": 29,
   "metadata": {},
   "outputs": [
    {
     "name": "stdout",
     "output_type": "stream",
     "text": [
      "Done! Tokenizing Time=0.17s, #Sentences=9000\n",
      "Done! Tokenizing Time=0.16s, #Sentences=1000\n"
     ]
    }
   ],
   "source": [
    "train_preprocessed  = preprocess_dataset(train_dataset)\n",
    "valid_preprocessed  = preprocess_dataset(valid_dataset)"
   ]
  },
  {
   "cell_type": "code",
   "execution_count": 30,
   "metadata": {},
   "outputs": [],
   "source": [
    "counter_sent   = nlp.data.count_tokens(itertools.chain.from_iterable([c for c, _, _ in train_preprocessed]))\n",
    "counter_intent = nlp.data.count_tokens([c for _,_, c in train_preprocessed])"
   ]
  },
  {
   "cell_type": "code",
   "execution_count": 31,
   "metadata": {},
   "outputs": [
    {
     "data": {
      "text/plain": [
       "Counter({'age': 900,\n",
       "         'area': 900,\n",
       "         'belong_to': 900,\n",
       "         'birth_date': 900,\n",
       "         'birth_place': 900,\n",
       "         'definition': 900,\n",
       "         'height': 900,\n",
       "         'length': 900,\n",
       "         'weight': 900,\n",
       "         'width': 900})"
      ]
     },
     "execution_count": 31,
     "metadata": {},
     "output_type": "execute_result"
    }
   ],
   "source": [
    "counter_intent"
   ]
  },
  {
   "cell_type": "code",
   "execution_count": 32,
   "metadata": {},
   "outputs": [],
   "source": [
    "vocab_sent = nlp.Vocab(counter_sent, bos_token=None, eos_token=None, min_freq=15)\n",
    "vocab_intent = nlp.Vocab(counter_intent, bos_token=None, eos_token=None, unknown_token=None, padding_token=None)"
   ]
  },
  {
   "cell_type": "code",
   "execution_count": 33,
   "metadata": {},
   "outputs": [
    {
     "data": {
      "text/plain": [
       "(['<unk>', '<pad>', ' ', 'I', '이', '색', '검', '의', '지', '아'],\n",
       " ['age',\n",
       "  'area',\n",
       "  'belong_to',\n",
       "  'birth_date',\n",
       "  'birth_place',\n",
       "  'definition',\n",
       "  'height',\n",
       "  'length',\n",
       "  'weight',\n",
       "  'width'])"
      ]
     },
     "execution_count": 33,
     "metadata": {},
     "output_type": "execute_result"
    }
   ],
   "source": [
    "vocab_sent.idx_to_token[:10], vocab_intent.idx_to_token[:10], "
   ]
  },
  {
   "cell_type": "code",
   "execution_count": 34,
   "metadata": {},
   "outputs": [],
   "source": [
    "train_preprocessed_encoded  = [(vocab_sent[sent], length ,vocab_intent[entity])  for sent, length ,entity in train_preprocessed ]\n",
    "valid  = [(vocab_sent[sent], length ,vocab_intent[entity])  for sent, length ,entity in valid_preprocessed ]"
   ]
  },
  {
   "cell_type": "code",
   "execution_count": 35,
   "metadata": {},
   "outputs": [],
   "source": [
    "train, test = nlp.data.train_valid_split(train_preprocessed_encoded, valid_ratio=0.1)"
   ]
  },
  {
   "cell_type": "code",
   "execution_count": 36,
   "metadata": {},
   "outputs": [],
   "source": [
    "nbatch = 30\n",
    "batchify_fn = nlp.data.batchify.Tuple(nlp.data.batchify.Stack(),\n",
    "                                      nlp.data.batchify.Stack('float32'),\n",
    "                                      nlp.data.batchify.Stack())\n",
    "\n",
    "train_dataloader  = gluon.data.DataLoader(train, batch_size=nbatch, batchify_fn=batchify_fn, shuffle=True)\n",
    "test_dataloader  = gluon.data.DataLoader(test, batch_size=nbatch, batchify_fn=batchify_fn, shuffle=True)\n",
    "valid_dataloader  = gluon.data.DataLoader(valid, batch_size=nbatch, batchify_fn=batchify_fn, shuffle=True)"
   ]
  },
  {
   "cell_type": "markdown",
   "metadata": {},
   "source": [
    "#### 모델링 "
   ]
  },
  {
   "cell_type": "code",
   "execution_count": 37,
   "metadata": {},
   "outputs": [],
   "source": [
    "class IntentClassification(gluon.HybridBlock):\n",
    "    def __init__(self, vocab_size, vocab_out_size, num_embed, seq_len, hidden_size, **kwargs):\n",
    "        super(IntentClassification, self).__init__(**kwargs)\n",
    "        self.seq_len = seq_len\n",
    "        self.hidden_size = hidden_size \n",
    "        self.vocab_out_size = vocab_out_size\n",
    "        with self.name_scope():\n",
    "            self.embed = nn.Embedding(input_dim=vocab_size, output_dim=num_embed)\n",
    "            self.bigru = rnn.GRU(self.hidden_size, dropout=0.2, bidirectional=True)\n",
    "            self.dense_prev = nn.Dense(10, flatten=True)\n",
    "            self.dense = nn.Dense(self.vocab_out_size)  \n",
    "            \n",
    "    def hybrid_forward(self, F ,inputs, length):\n",
    "        em_out = self.embed(inputs)\n",
    "        bigruout = self.bigru(em_out)\n",
    "        masked_encoded = F.SequenceMask(bigruout,\n",
    "                                        sequence_length=length,\n",
    "                                        use_sequence_length=True).transpose((1,0,2))\n",
    "        dense_out = self.dense_prev(masked_encoded)\n",
    "        outs = self.dense(dense_out) \n",
    "        return(outs)"
   ]
  },
  {
   "cell_type": "code",
   "execution_count": 38,
   "metadata": {},
   "outputs": [],
   "source": [
    "ctx = mx.cpu()\n",
    "\n",
    "model = IntentClassification(vocab_size = len(vocab_sent.idx_to_token), \n",
    "                             vocab_out_size=len(vocab_intent.idx_to_token), num_embed=50, seq_len=seq_len, hidden_size=30)"
   ]
  },
  {
   "cell_type": "code",
   "execution_count": 39,
   "metadata": {},
   "outputs": [],
   "source": [
    "model.initialize(mx.initializer.Xavier(), ctx=ctx)"
   ]
  },
  {
   "cell_type": "code",
   "execution_count": 40,
   "metadata": {},
   "outputs": [],
   "source": [
    "trainer = gluon.Trainer(model.collect_params(),\"Adam\")\n",
    "loss = gluon.loss.SoftmaxCELoss() "
   ]
  },
  {
   "cell_type": "code",
   "execution_count": 41,
   "metadata": {},
   "outputs": [],
   "source": [
    "model.hybridize()"
   ]
  },
  {
   "cell_type": "code",
   "execution_count": 45,
   "metadata": {},
   "outputs": [
    {
     "data": {
      "text/plain": [
       "IntentClassification(\n",
       "  (embed): Embedding(481 -> 50, float32)\n",
       "  (bigru): GRU(50 -> 30, TNC, dropout=0.2, bidirectional)\n",
       "  (dense_prev): Dense(60 -> 10, linear)\n",
       "  (dense): Dense(320 -> 10, linear)\n",
       ")"
      ]
     },
     "execution_count": 45,
     "metadata": {},
     "output_type": "execute_result"
    }
   ],
   "source": [
    "model"
   ]
  },
  {
   "cell_type": "code",
   "execution_count": 42,
   "metadata": {},
   "outputs": [],
   "source": [
    "def evaluate_accuracy(model, data_iter, ctx=ctx):\n",
    "    acc = mx.metric.Accuracy()\n",
    "    for i, (data, length, label) in enumerate(data_iter):\n",
    "        data = data.as_in_context(ctx)\n",
    "        label = label.as_in_context(ctx)\n",
    "        length = length.as_in_context(ctx)\n",
    "        output = model(data.T, length)\n",
    "        predictions = nd.argmax(output, axis=1)\n",
    "        acc.update(preds=predictions, labels=label)\n",
    "    return(acc.get()[1])"
   ]
  },
  {
   "cell_type": "code",
   "execution_count": 43,
   "metadata": {},
   "outputs": [],
   "source": [
    "def calculate_loss(model, data_iter, loss_obj, ctx=ctx):\n",
    "    test_loss = []\n",
    "    for i, (te_data, te_length, te_label) in enumerate(data_iter):\n",
    "        te_data = te_data.as_in_context(ctx)\n",
    "        te_label = te_label.as_in_context(ctx)\n",
    "        te_length = te_length.as_in_context(ctx)\n",
    "        te_output = model(te_data.T, te_length)\n",
    "        loss_te = loss_obj(te_output, te_label)\n",
    "        curr_loss = nd.mean(loss_te).asscalar()\n",
    "        test_loss.append(curr_loss)\n",
    "    return(np.mean(test_loss))"
   ]
  },
  {
   "cell_type": "code",
   "execution_count": 44,
   "metadata": {},
   "outputs": [
    {
     "name": "stderr",
     "output_type": "stream",
     "text": [
      "100%|██████████| 270/270 [00:05<00:00, 53.20it/s]\n",
      "  3%|▎         | 7/270 [00:00<00:04, 62.10it/s]"
     ]
    },
    {
     "name": "stdout",
     "output_type": "stream",
     "text": [
      "Epoch 0. Train Loss: nan, Test Loss : nan, Test Accuracy : 0.09, Train Accuracy : 0.10111111111111111 : Valid Accuracy : 0.1\n"
     ]
    },
    {
     "name": "stderr",
     "output_type": "stream",
     "text": [
      "100%|██████████| 270/270 [00:04<00:00, 56.73it/s]\n",
      "100%|██████████| 270/270 [00:04<00:00, 57.17it/s]\n",
      "100%|██████████| 270/270 [00:04<00:00, 55.77it/s]\n",
      "100%|██████████| 270/270 [00:04<00:00, 56.14it/s]\n",
      "100%|██████████| 270/270 [00:04<00:00, 55.89it/s]\n",
      "100%|██████████| 270/270 [00:04<00:00, 55.08it/s]\n",
      "100%|██████████| 270/270 [00:04<00:00, 56.35it/s]\n",
      "100%|██████████| 270/270 [00:04<00:00, 57.01it/s]\n",
      "100%|██████████| 270/270 [00:04<00:00, 55.32it/s]\n",
      "100%|██████████| 270/270 [00:04<00:00, 56.60it/s]\n",
      "  2%|▏         | 6/270 [00:00<00:04, 56.22it/s]"
     ]
    },
    {
     "name": "stdout",
     "output_type": "stream",
     "text": [
      "Epoch 10. Train Loss: nan, Test Loss : nan, Test Accuracy : 0.09, Train Accuracy : 0.10111111111111111 : Valid Accuracy : 0.1\n"
     ]
    },
    {
     "name": "stderr",
     "output_type": "stream",
     "text": [
      "100%|██████████| 270/270 [00:04<00:00, 57.10it/s]\n",
      "100%|██████████| 270/270 [00:04<00:00, 58.50it/s]\n",
      "100%|██████████| 270/270 [00:04<00:00, 56.33it/s]\n",
      "100%|██████████| 270/270 [00:04<00:00, 56.78it/s]\n",
      "100%|██████████| 270/270 [00:04<00:00, 57.12it/s]\n",
      "100%|██████████| 270/270 [00:04<00:00, 55.97it/s]\n",
      "100%|██████████| 270/270 [00:04<00:00, 56.58it/s]\n",
      "100%|██████████| 270/270 [00:04<00:00, 57.23it/s]\n",
      "100%|██████████| 270/270 [00:04<00:00, 56.60it/s]\n",
      "100%|██████████| 270/270 [00:04<00:00, 56.70it/s]\n",
      "  3%|▎         | 7/270 [00:00<00:04, 62.24it/s]"
     ]
    },
    {
     "name": "stdout",
     "output_type": "stream",
     "text": [
      "Epoch 20. Train Loss: nan, Test Loss : nan, Test Accuracy : 0.09, Train Accuracy : 0.10111111111111111 : Valid Accuracy : 0.1\n"
     ]
    },
    {
     "name": "stderr",
     "output_type": "stream",
     "text": [
      "100%|██████████| 270/270 [00:04<00:00, 56.84it/s]\n",
      "100%|██████████| 270/270 [00:04<00:00, 55.91it/s]\n",
      "100%|██████████| 270/270 [00:04<00:00, 55.81it/s]\n",
      "100%|██████████| 270/270 [00:04<00:00, 55.82it/s]\n",
      "100%|██████████| 270/270 [00:04<00:00, 57.02it/s]\n",
      "100%|██████████| 270/270 [00:04<00:00, 56.09it/s]\n",
      "100%|██████████| 270/270 [00:04<00:00, 55.54it/s]\n",
      "100%|██████████| 270/270 [00:04<00:00, 57.64it/s]\n",
      "100%|██████████| 270/270 [00:04<00:00, 55.33it/s]\n",
      "100%|██████████| 270/270 [00:04<00:00, 56.42it/s]\n",
      "  3%|▎         | 7/270 [00:00<00:04, 59.74it/s]"
     ]
    },
    {
     "name": "stdout",
     "output_type": "stream",
     "text": [
      "Epoch 30. Train Loss: nan, Test Loss : nan, Test Accuracy : 0.09, Train Accuracy : 0.10111111111111111 : Valid Accuracy : 0.1\n"
     ]
    },
    {
     "name": "stderr",
     "output_type": "stream",
     "text": [
      "100%|██████████| 270/270 [00:04<00:00, 55.71it/s]\n",
      "100%|██████████| 270/270 [00:04<00:00, 57.68it/s]\n",
      "100%|██████████| 270/270 [00:04<00:00, 56.37it/s]\n",
      "100%|██████████| 270/270 [00:04<00:00, 56.31it/s]\n",
      "100%|██████████| 270/270 [00:04<00:00, 57.75it/s]\n",
      "100%|██████████| 270/270 [00:04<00:00, 54.52it/s]\n",
      "100%|██████████| 270/270 [00:04<00:00, 57.19it/s]\n",
      "100%|██████████| 270/270 [00:04<00:00, 57.32it/s]\n",
      "100%|██████████| 270/270 [00:04<00:00, 55.49it/s]\n",
      "100%|██████████| 270/270 [00:04<00:00, 56.74it/s]\n",
      "  3%|▎         | 7/270 [00:00<00:04, 61.57it/s]"
     ]
    },
    {
     "name": "stdout",
     "output_type": "stream",
     "text": [
      "Epoch 40. Train Loss: nan, Test Loss : nan, Test Accuracy : 0.09, Train Accuracy : 0.10111111111111111 : Valid Accuracy : 0.1\n"
     ]
    },
    {
     "name": "stderr",
     "output_type": "stream",
     "text": [
      "100%|██████████| 270/270 [00:04<00:00, 56.55it/s]\n",
      "100%|██████████| 270/270 [00:04<00:00, 57.34it/s]\n",
      "100%|██████████| 270/270 [00:04<00:00, 54.94it/s]\n",
      "100%|██████████| 270/270 [00:04<00:00, 57.54it/s]\n",
      "100%|██████████| 270/270 [00:04<00:00, 57.82it/s]\n",
      "100%|██████████| 270/270 [00:04<00:00, 57.78it/s]\n",
      "100%|██████████| 270/270 [00:04<00:00, 56.55it/s]\n",
      "100%|██████████| 270/270 [00:04<00:00, 56.67it/s]\n",
      "100%|██████████| 270/270 [00:04<00:00, 58.04it/s]\n",
      "100%|██████████| 270/270 [00:04<00:00, 56.22it/s]\n",
      "  2%|▏         | 6/270 [00:00<00:05, 52.69it/s]"
     ]
    },
    {
     "name": "stdout",
     "output_type": "stream",
     "text": [
      "Epoch 50. Train Loss: nan, Test Loss : nan, Test Accuracy : 0.09, Train Accuracy : 0.10111111111111111 : Valid Accuracy : 0.1\n"
     ]
    },
    {
     "name": "stderr",
     "output_type": "stream",
     "text": [
      "100%|██████████| 270/270 [00:04<00:00, 56.42it/s]\n",
      "100%|██████████| 270/270 [00:04<00:00, 57.06it/s]\n",
      "100%|██████████| 270/270 [00:04<00:00, 58.32it/s]\n",
      "100%|██████████| 270/270 [00:04<00:00, 57.03it/s]\n",
      "100%|██████████| 270/270 [00:04<00:00, 56.96it/s]\n",
      "100%|██████████| 270/270 [00:04<00:00, 57.17it/s]\n",
      "100%|██████████| 270/270 [00:04<00:00, 57.38it/s]\n",
      "100%|██████████| 270/270 [00:04<00:00, 57.16it/s]\n",
      "100%|██████████| 270/270 [00:04<00:00, 57.05it/s]\n",
      "100%|██████████| 270/270 [00:04<00:00, 56.03it/s]\n",
      "  3%|▎         | 7/270 [00:00<00:03, 66.47it/s]"
     ]
    },
    {
     "name": "stdout",
     "output_type": "stream",
     "text": [
      "Epoch 60. Train Loss: nan, Test Loss : nan, Test Accuracy : 0.09, Train Accuracy : 0.10111111111111111 : Valid Accuracy : 0.1\n"
     ]
    },
    {
     "name": "stderr",
     "output_type": "stream",
     "text": [
      "100%|██████████| 270/270 [00:04<00:00, 55.75it/s]\n",
      "100%|██████████| 270/270 [00:04<00:00, 56.37it/s]\n",
      "100%|██████████| 270/270 [00:04<00:00, 56.79it/s]\n",
      "100%|██████████| 270/270 [00:04<00:00, 58.36it/s]\n",
      "100%|██████████| 270/270 [00:04<00:00, 56.39it/s]\n",
      "100%|██████████| 270/270 [00:04<00:00, 56.99it/s]\n",
      "100%|██████████| 270/270 [00:04<00:00, 59.29it/s]\n",
      "100%|██████████| 270/270 [00:04<00:00, 55.22it/s]\n",
      "100%|██████████| 270/270 [00:04<00:00, 56.81it/s]\n",
      "100%|██████████| 270/270 [00:04<00:00, 59.21it/s]\n",
      "  3%|▎         | 7/270 [00:00<00:04, 61.74it/s]"
     ]
    },
    {
     "name": "stdout",
     "output_type": "stream",
     "text": [
      "Epoch 70. Train Loss: nan, Test Loss : nan, Test Accuracy : 0.09, Train Accuracy : 0.10111111111111111 : Valid Accuracy : 0.1\n"
     ]
    },
    {
     "name": "stderr",
     "output_type": "stream",
     "text": [
      "100%|██████████| 270/270 [00:04<00:00, 57.02it/s]\n",
      "100%|██████████| 270/270 [00:04<00:00, 56.90it/s]\n",
      "100%|██████████| 270/270 [00:04<00:00, 56.74it/s]\n",
      "100%|██████████| 270/270 [00:04<00:00, 56.60it/s]\n",
      "100%|██████████| 270/270 [00:04<00:00, 56.02it/s]\n",
      "100%|██████████| 270/270 [00:04<00:00, 56.03it/s]\n",
      "100%|██████████| 270/270 [00:04<00:00, 56.78it/s]\n",
      "100%|██████████| 270/270 [00:04<00:00, 55.61it/s]\n",
      "100%|██████████| 270/270 [00:04<00:00, 56.43it/s]\n",
      "100%|██████████| 270/270 [00:04<00:00, 57.34it/s]\n",
      "  3%|▎         | 7/270 [00:00<00:04, 62.74it/s]"
     ]
    },
    {
     "name": "stdout",
     "output_type": "stream",
     "text": [
      "Epoch 80. Train Loss: nan, Test Loss : nan, Test Accuracy : 0.09, Train Accuracy : 0.10111111111111111 : Valid Accuracy : 0.1\n"
     ]
    },
    {
     "name": "stderr",
     "output_type": "stream",
     "text": [
      "100%|██████████| 270/270 [00:04<00:00, 58.22it/s]\n",
      "100%|██████████| 270/270 [00:04<00:00, 55.47it/s]\n",
      "100%|██████████| 270/270 [00:02<00:00, 92.90it/s]\n",
      "100%|██████████| 270/270 [00:02<00:00, 91.97it/s]\n",
      "100%|██████████| 270/270 [00:02<00:00, 95.15it/s]\n",
      "100%|██████████| 270/270 [00:02<00:00, 92.22it/s]\n",
      "100%|██████████| 270/270 [00:02<00:00, 92.79it/s]\n",
      "100%|██████████| 270/270 [00:02<00:00, 93.24it/s]\n",
      "100%|██████████| 270/270 [00:02<00:00, 92.86it/s]\n",
      "100%|██████████| 270/270 [00:02<00:00, 93.96it/s]\n",
      "  4%|▍         | 11/270 [00:00<00:02, 101.94it/s]"
     ]
    },
    {
     "name": "stdout",
     "output_type": "stream",
     "text": [
      "Epoch 90. Train Loss: nan, Test Loss : nan, Test Accuracy : 0.09, Train Accuracy : 0.10111111111111111 : Valid Accuracy : 0.1\n"
     ]
    },
    {
     "name": "stderr",
     "output_type": "stream",
     "text": [
      "100%|██████████| 270/270 [00:02<00:00, 94.98it/s]\n",
      "100%|██████████| 270/270 [00:02<00:00, 92.83it/s]\n",
      "100%|██████████| 270/270 [00:02<00:00, 92.73it/s]\n",
      "100%|██████████| 270/270 [00:02<00:00, 93.24it/s]\n",
      "100%|██████████| 270/270 [00:02<00:00, 94.12it/s]\n",
      "100%|██████████| 270/270 [00:02<00:00, 93.97it/s]\n",
      "100%|██████████| 270/270 [00:02<00:00, 92.34it/s]\n",
      "100%|██████████| 270/270 [00:03<00:00, 88.52it/s]\n",
      "100%|██████████| 270/270 [00:02<00:00, 92.67it/s]\n"
     ]
    }
   ],
   "source": [
    "epochs = 100\n",
    "\n",
    "\n",
    "tot_test_loss = []\n",
    "tot_test_accu = []\n",
    "tot_train_loss = []\n",
    "tot_train_accu = []\n",
    "tot_valid_accu = [] \n",
    "for e in range(epochs):\n",
    "    #batch training \n",
    "    for i, (data, length, label) in enumerate(tqdm(train_dataloader)):\n",
    "        data = data.as_in_context(ctx)\n",
    "        label = label.as_in_context(ctx)\n",
    "        length = length.as_in_context(ctx)\n",
    "        with autograd.record():\n",
    "            output = model(data.T, length)\n",
    "            loss_ = loss(output, label)\n",
    "            loss_.backward()\n",
    "        trainer.step(data.shape[0])\n",
    "\n",
    "    #caculate test loss\n",
    "    if e % 10 == 0: \n",
    "        test_loss = calculate_loss(model, test_dataloader, loss_obj = loss, ctx=ctx) \n",
    "        train_loss = calculate_loss(model, train_dataloader, loss_obj = loss, ctx=ctx) \n",
    "        test_accu = evaluate_accuracy(model, test_dataloader,  ctx=ctx)\n",
    "        train_accu = evaluate_accuracy(model, train_dataloader,  ctx=ctx)\n",
    "        valid_accu = evaluate_accuracy(model, valid_dataloader,  ctx=ctx)\n",
    "\n",
    "        print(\"Epoch %s. Train Loss: %s, Test Loss : %s,\" \\\n",
    "        \" Test Accuracy : %s,\" \\\n",
    "        \" Train Accuracy : %s : Valid Accuracy : %s\" % (e, train_loss, test_loss, test_accu, train_accu, valid_accu))    \n",
    "        tot_test_loss.append(test_loss)\n",
    "        tot_train_loss.append(train_loss)\n",
    "        tot_test_accu.append(test_accu)\n",
    "        tot_train_accu.append(train_accu)\n",
    "        tot_valid_accu.append(valid_accu)"
   ]
  },
  {
   "cell_type": "markdown",
   "metadata": {},
   "source": [
    "#### Model export and Visualize "
   ]
  },
  {
   "cell_type": "code",
   "execution_count": 22,
   "metadata": {},
   "outputs": [],
   "source": [
    "model.export(\"model\")"
   ]
  },
  {
   "cell_type": "markdown",
   "metadata": {},
   "source": [
    "Netron으로 네트워크 시각화 \n",
    "\n",
    "- https://lutzroeder.github.io/netron/\n",
    "- 저장된 `model-symbol.json`을 입력해 시각화 "
   ]
  },
  {
   "cell_type": "code",
   "execution_count": 23,
   "metadata": {},
   "outputs": [],
   "source": [
    "load_model = gluon.nn.SymbolBlock.imports(\"model-symbol.json\", ['data0', 'data1'], \"model-0000.params\")"
   ]
  },
  {
   "cell_type": "code",
   "execution_count": 24,
   "metadata": {},
   "outputs": [],
   "source": [
    "def get_intent(sent):\n",
    "    sent_len = len(sent)\n",
    "    coded_sent = vocab_sent[length_clip(list(sent))]\n",
    "    co = nd.array(coded_sent).expand_dims(axis=1)\n",
    "    ret_code = load_model(co, nd.array([sent_len,]))\n",
    "    ret_seq = vocab_intent.to_tokens(ret_code.argmax(axis=1).asnumpy().astype('int').tolist())\n",
    "    return(''.join(ret_seq))"
   ]
  },
  {
   "cell_type": "markdown",
   "metadata": {},
   "source": [
    "### TODO\n",
    "- 개별 Intent와 Entity 모형을 하나의 모형으로 구축해본다. (Multi-Task Learning) \n",
    "  - 분류 성능이 좋아지는가? 학습 수렴 속도는 어떠한가?"
   ]
  }
 ],
 "metadata": {
  "kernelspec": {
   "display_name": "Python 3",
   "language": "python",
   "name": "python3"
  },
  "language_info": {
   "codemirror_mode": {
    "name": "ipython",
    "version": 3
   },
   "file_extension": ".py",
   "mimetype": "text/x-python",
   "name": "python",
   "nbconvert_exporter": "python",
   "pygments_lexer": "ipython3",
   "version": "3.6.4"
  }
 },
 "nbformat": 4,
 "nbformat_minor": 2
}
